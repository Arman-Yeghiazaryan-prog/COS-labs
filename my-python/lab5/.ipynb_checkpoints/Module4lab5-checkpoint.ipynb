{
 "cells": [
  {
   "cell_type": "markdown",
   "metadata": {
    "id": "308iXhN03J0n"
   },
   "source": [
    "# Лабораторная работа №5. Цифровой спектральный анализ.\n",
    "Курс: лаборатория цифровой обработки сигналов, ФРКТ МФТИ\n",
    "#  Модуль 4.  Коррелограммный метод оценки СПМ, оценка взаимной спектральной плотности мощности, спектральный анализ по неэквидистантным отсчетам. "
   ]
  },
  {
   "cell_type": "code",
   "execution_count": 1,
   "metadata": {
    "id": "qkytMDkw3J0u"
   },
   "outputs": [],
   "source": [
    "import numpy as np\n",
    "from scipy import signal\n",
    "import matplotlib.pyplot as plt"
   ]
  },
  {
   "cell_type": "code",
   "execution_count": 2,
   "metadata": {},
   "outputs": [],
   "source": [
    "%matplotlib inline"
   ]
  },
  {
   "cell_type": "code",
   "execution_count": null,
   "metadata": {
    "id": "4JwI57OL3J0v"
   },
   "outputs": [],
   "source": [
    "%matplotlib notebook"
   ]
  },
  {
   "cell_type": "markdown",
   "metadata": {
    "id": "ZbCAoGZt3J01"
   },
   "source": [
    "## Коррелограммный метод оценки СПМ (метод Блэкмана-Тьюки)"
   ]
  },
  {
   "cell_type": "markdown",
   "metadata": {
    "id": "L8xXnBTR3J02"
   },
   "source": [
    "Корреляционный метод оценки СПМ основан на теореме Винера-Хинчина в дискретном варианте:\n",
    "\n",
    "$$G(f)= \\Delta t \\sum \\limits_{m=-\\infty}^{\\infty} R_x[m] \\exp(-j 2\\pi m f \\Delta t).$$\n",
    "\n",
    "Она заключается в том, что истинная спектральная плотность мощности $G(f)$ (СПМ) и автокорреляционная функция дискретного случайного процесса $R_x[m]$ связаны дискретным во времени преобразованием Фурье (ДВПФ). \n",
    "\n",
    "Для стационарного случайного процесса автокорреляционная функция (АКФ) (последовательность) $R_x[m]=M\\{ x[k] x[k+m]\\}$. Это функция от временного сдвига $m \\in Z$."
   ]
  },
  {
   "cell_type": "markdown",
   "metadata": {},
   "source": [
    "---\n",
    "**Пример.** Белый шум является дельта-коррелированным. Для его дискретного варианта \n",
    "$$R_x[m]=M\\{ x[k] x[k+m]\\}=\\mathbf{1}[m] \\sigma^2,$$\n",
    "где $\\sigma$ — стандартное отклонение,  $\\sigma^2$ — дисперсия. Его спектральная плотность мощности (истинная) $G_x(f)=\\Delta t \\; \\sigma^2$. \n",
    "\n",
    "---"
   ]
  },
  {
   "cell_type": "markdown",
   "metadata": {
    "id": "QCdWEhZy3J02"
   },
   "source": [
    "Оценка по методу Блэкмана-Тьюки $\\hat{G}_{BT}(f)$ по выборке длиной в $N$ отчетов определяется по формуле:\n",
    "$$\\hat{G}_{BT}(f)=\\Delta t \\sum \\limits_{m=-(N_1-1)}^{N_1-1} \\hat{R}_x[m] w[m]\\exp(-j 2\\pi m f \\Delta t), $$\n",
    "где \n",
    "* $N_1$ — ограничение на максимальный сдвиг в АКФ, $N_1=\\left\\lceil \\dfrac{N}{10} \\right\\rceil$ (округление до ближайшего целого в сторону увеличения),\n",
    "* $w[k]$ —  симметричная относительно нуля оконная функция длины $2N_1-1$,\n",
    "* $\\hat{R}_x[m]$ —  оценка автокорреляционной функции (коррелограмма) длиной в $2N_1-1$ отчетов, четная функция ($\\hat{R}_x[m]=\\hat{R}_x[-m]$ ). Используется смещенная либо несмещенная оценка АКФ.\n",
    "\n",
    "* * Смещенная оценка АКФ вычисляется по формуле\n",
    "$$\\check{R}_x[m] = \\dfrac{1}{N} \\sum_{k=0}^{N-|m|-1} x[k] x[k+m], \\; -(N_1-1)\\le m \\le N_1 - 1.$$\n",
    "\n",
    "* * Несмещенная оценка АКФ вычисляется по формуле ($(N-|m|)$ — максимальное число ненулевых слагаемых в сумме)\n",
    "$$\\hat{R}_x[m] = \\dfrac{1}{N-|m|} \\sum_{k=0}^{N-|m|-1} x[k] x[k+m], \\; -(N_1-1)\\le m \\le N_1 - 1.$$"
   ]
  },
  {
   "cell_type": "markdown",
   "metadata": {
    "id": "-9JqxPHa3J02"
   },
   "source": [
    "Несмещенность оценки АКФ означает, что \n",
    "$$M\\{ \\hat{R}_x [m]\\} = R_x[m].$$\n",
    "\n",
    "Связь между смещенной и несмещенной оценкой:\n",
    "\n",
    "$$\\check{R}_x[m]={\\dfrac{N-|m|}{N} \\hat{R}_x[m]}$$.\n",
    "\n",
    "При $N>>N_1 > |m|$ смещение невелико: $\\check{R}_x[m]  \\approx \\hat{R}_x[m]$. \n",
    "\n",
    "Для того, чтобы оценка СПМ была неотрицательной, следует использовать смещенную оценку АКФ с окном, ДВПФ которого не принимает отрицательных значений (например, окно Бартлетта). "
   ]
  },
  {
   "cell_type": "markdown",
   "metadata": {},
   "source": [
    "**Пример**. Рассмотрим случайный процесс вида \n",
    "$$x_{сл}[k]=a_1 \\sin \\left( 2 \\pi \\dfrac{f_0}{f_s} k\\right) + e[k],$$\n",
    "где $a_1=5$, $f_0=2$ кГц, $f_s=10$ кГц, $e[k]$ — дискретный белый шум с дисперсией $\\sigma^2$. "
   ]
  },
  {
   "cell_type": "code",
   "execution_count": null,
   "metadata": {
    "id": "_jykqJFM3J03"
   },
   "outputs": [],
   "source": [
    "fs=10000\n",
    "f0=2000\n",
    "a1=5\n",
    "N=1024\n",
    "k=np.arange(N)\n",
    "x=a1*np.sin(2*np.pi*f0/fs*k)+np.random.normal(scale=8, size=N)"
   ]
  },
  {
   "cell_type": "code",
   "execution_count": null,
   "metadata": {},
   "outputs": [],
   "source": [
    "N1 = int(np.ceil(N/10))\n",
    "N1"
   ]
  },
  {
   "cell_type": "markdown",
   "metadata": {},
   "source": [
    "Вычисление смещенной оценки АКФ для $0 \\le m \\le N_1 -1$\n",
    "$$\\check{R}_x[m] = \\dfrac{1}{N} \\sum_{k=0}^{N-|m|-1} x[k] x[k+m], \\; -(N_1-1)\\le m \\le N_1 - 1.$$"
   ]
  },
  {
   "cell_type": "code",
   "execution_count": null,
   "metadata": {
    "id": "kZVGNLrt3J03"
   },
   "outputs": [],
   "source": [
    "def auto_correlation(x, N1, mode='biased'):\n",
    "    Rx = signal.correlate(x, x) / len(x)\n",
    "    lag = np.arange(-(len(x)-1), len(x))\n",
    "    return Rx[np.logical_and(lag<=N1-1, lag>=0)]"
   ]
  },
  {
   "cell_type": "code",
   "execution_count": null,
   "metadata": {},
   "outputs": [],
   "source": [
    "Rx = auto_correlation(x, N1, mode='biased')\n",
    "plt.figure(figsize=[8, 3])\n",
    "plt.tight_layout()\n",
    "plt.stem(np.arange(len(Rx)), Rx, linefmt='', markerfmt='.')\n",
    "plt.title(\"Коррелограмма\")\n",
    "plt.xlabel('lag m')\n",
    "plt.ylabel('${{\\\\overset{\\\\smile}{R}}_{x}}_x[m]$')\n",
    "plt.grid()\n",
    "# plt.xlim([3000, 3050])\n",
    "# plt.ylim([0, 0.1])\n",
    "plt.tight_layout()\n",
    "plt.show()"
   ]
  },
  {
   "cell_type": "markdown",
   "metadata": {
    "id": "DrboIkZm3Oem"
   },
   "source": [
    "Оценка $\\hat{G}_{BT}(f)$\n",
    "$$\\hat{G}_{BT}(f)=\\Delta t \\sum \\limits_{m=-(N_1-1)}^{N_1-1} \\hat{R}_x[m] w[m]\\exp(-j 2\\pi m f \\Delta t), $$\n",
    "за счет симметрии $\\hat{R}_x[m]=\\hat{R}_x[-m]$ может быть представлена в виде"
   ]
  },
  {
   "cell_type": "markdown",
   "metadata": {
    "id": "JIOmnJwv4r-D"
   },
   "source": [
    "$${{\\hat{G}}_{BT}}(f)=\\Delta \\text{ }\\!\\!~\\!\\!\\text{ }t\\left( \\text{ }\\!\\!~\\!\\!\\text{ }2\\sum\\limits_{m=0}^{{{N}_{1}}-1}{\\text{ }\\!\\!~\\!\\!\\text{ }}\\left( {{{\\hat{R}}}_{x}}[m]\\text{ }\\!\\!~\\!\\!\\text{ }w[m]\\cos (2\\pi mf\\Delta \\text{ }\\!\\!~\\!\\!\\text{ }t) \\right)-{{{\\hat{R}}}_{x}}[0] \\right)\\text{ }\\!\\!~\\!\\!\\text{ }$$"
   ]
  },
  {
   "cell_type": "markdown",
   "metadata": {
    "id": "WgrqdFb15ezh"
   },
   "source": [
    "Для дискретной сетки частот $f_n=f_s \\dfrac{ n}{N}$ сумма в этом выражении представлет ничто иное, как действительную часть коэффициэнтов ДПФ:\n",
    "$${{\\hat{G}}_{BT}}({{f}_{n}})=\\Delta t\\left(2\\sum\\limits_{m=0}^{{{N}_{1}}-1}\\left( {{{\\hat{R}}}_{x}}[m]w[m]\\cos \\frac{2\\pi mn}{{{N}_\\text{FFT}}} \\right)-{{{\\hat{R}}}_{x}}[0] \\right)$$"
   ]
  },
  {
   "cell_type": "code",
   "execution_count": null,
   "metadata": {
    "id": "1Uvd8dp53J03"
   },
   "outputs": [],
   "source": [
    "def  blackman_tukey_estimator(x, window='bartlett', Nfft=None, auto_correlation_mode='biased', fs=1):\n",
    "    N = len(x)\n",
    "    N1 = int(np.ceil(N/10))\n",
    "    if Nfft is None:\n",
    "        Nfft=max(2**12, N)\n",
    "    window = signal.get_window(window, 2*N1-1, fftbins=False)\n",
    "    Rx = auto_correlation(x, N1, mode=auto_correlation_mode) * window[N1-1:2*N1:1]\n",
    "    return fs*np.arange(Nfft)/Nfft, (2*np.fft.fft(Rx, Nfft).real - Rx[0])/fs"
   ]
  },
  {
   "cell_type": "code",
   "execution_count": null,
   "metadata": {
    "id": "kUMXsgGx3J04"
   },
   "outputs": [],
   "source": [
    "f, P_BT = blackman_tukey_estimator(x, window='bartlett', fs=fs)"
   ]
  },
  {
   "cell_type": "code",
   "execution_count": null,
   "metadata": {},
   "outputs": [],
   "source": [
    "plt.figure(figsize=[8, 3])\n",
    "#plt.stem(f, P_BT, 'b', 'b.')\n",
    "plt.plot(f, P_BT)\n",
    "plt.xlim([0, fs/2])\n",
    "plt.xlabel('Частота, Гц')\n",
    "plt.ylabel('Оценка СПМ, Bт/Гц')\n",
    "plt.title('$w[m]$ - окно Бартлетта')\n",
    "plt.grid()\n",
    "plt.tight_layout()\n",
    "#plt.savefig('psd_BT2.svg')\n",
    "plt.show()"
   ]
  },
  {
   "cell_type": "code",
   "execution_count": null,
   "metadata": {},
   "outputs": [],
   "source": [
    "f, P_BT = blackman_tukey_estimator(x, window='boxcar', fs=fs)"
   ]
  },
  {
   "cell_type": "code",
   "execution_count": null,
   "metadata": {
    "id": "zgtk7EIL3J04",
    "outputId": "5d0651b0-ac52-4cf2-e99a-bbd523e19f3f"
   },
   "outputs": [],
   "source": [
    "plt.figure(figsize=[8, 3])\n",
    "#plt.stem(f, P_BT, 'b', 'b.')\n",
    "plt.plot(f, P_BT)\n",
    "plt.xlim([0, fs/2])\n",
    "plt.xlabel('Частота, Гц')\n",
    "plt.ylabel('Оценка СПМ, Bт/Гц')\n",
    "plt.title('$w[m]$ - прямоугольное окно')\n",
    "plt.grid()\n",
    "plt.tight_layout()\n",
    "#plt.savefig('psd_BT1.svg')\n",
    "plt.show()"
   ]
  },
  {
   "cell_type": "markdown",
   "metadata": {},
   "source": [
    "$w[k]$ —  симметричная относительно нуля оконная функция, а значит его ДВПФ принимает только действительные значения. Для того, чтобы оценка СПМ была неотрицательной, следует использовать смещенную оценку АКФ с окном $w[k]$, ДВПФ которого не принимает отрицательных значений (например, окно Бартлетта)."
   ]
  },
  {
   "cell_type": "code",
   "execution_count": 49,
   "metadata": {},
   "outputs": [],
   "source": [
    "def window_plot(window='bartlett', N1=10):\n",
    "    w = signal.get_window(window, 2*N1-1, fftbins=False)\n",
    "    plt.figure(figsize=[8, 6])\n",
    "    \n",
    "    M=2**10\n",
    "    nu, W = np.fft.fftshift(np.fft.fftfreq(M, d=1)), np.fft.fftshift(np.fft.fft(w, M))\n",
    "    W=W*np.exp(2j*np.pi*nu*(N1-1))\n",
    "    print(W.size)\n",
    "    plt.subplot(2, 1, 1)\n",
    "    plt.title(\"Симметричное окно %s\" %window)\n",
    "    plt.stem(np.arange(-N1+1, N1, 1), w)\n",
    "    plt.xticks(ticks=np.arange(-N1+1, N1, 1))\n",
    "    plt.ylabel(\"$w[k]$\")\n",
    "    plt.xlabel(\"$k$\")\n",
    "    plt.subplot(2, 1, 2)\n",
    "    plt.title(\"ДВПФ симметричного окна %s\" %window)\n",
    "    plt.plot(nu, W)\n",
    "    plt.ylabel(\"$W(\\\\nu)$\")\n",
    "    plt.xlabel(\"$\\\\nu$\")\n",
    "    plt.grid()\n",
    "    plt.tight_layout()\n",
    "    plt.show()"
   ]
  },
  {
   "cell_type": "code",
   "execution_count": 50,
   "metadata": {},
   "outputs": [
    {
     "name": "stdout",
     "output_type": "stream",
     "text": [
      "1024\n"
     ]
    },
    {
     "data": {
      "image/png": "[encoded data removed]",
      "text/plain": [
       "<Figure size 576x432 with 2 Axes>"
      ]
     },
     "metadata": {
      "needs_background": "light"
     },
     "output_type": "display_data"
    }
   ],
   "source": [
    "window_plot(window='boxcar')"
   ]
  },
  {
   "cell_type": "code",
   "execution_count": 51,
   "metadata": {},
   "outputs": [
    {
     "name": "stdout",
     "output_type": "stream",
     "text": [
      "1024\n"
     ]
    },
    {
     "data": {
      "image/png": "[encoded data removed]",
      "text/plain": [
       "<Figure size 576x432 with 2 Axes>"
      ]
     },
     "metadata": {
      "needs_background": "light"
     },
     "output_type": "display_data"
    }
   ],
   "source": [
    "window_plot(window='bartlett')"
   ]
  },
  {
   "cell_type": "markdown",
   "metadata": {
    "id": "dHcfd-aI3J04"
   },
   "source": [
    "## Оценка взаимной спектральной плотности мощности"
   ]
  },
  {
   "cell_type": "markdown",
   "metadata": {
    "id": "KUFPWnvX3J04"
   },
   "source": [
    "Автокорреляционная функция (АКФ) (последовательность) для случайного процесса $x[k]$\n",
    "$$R_{x}[m]=r_{xx}[m]=M\\{ x[k] x[k+m]\\}.$$ \n",
    "Это функция от временного сдвига $m \\in Z$. "
   ]
  },
  {
   "cell_type": "markdown",
   "metadata": {
    "id": "nUtuefAM3J05"
   },
   "source": [
    "По теореме Виннера-Хинчина \n",
    "$$G_{xx}(f)= \\Delta t \\sum \\limits_{m=-\\infty}^{\\infty} r_{xx}[m] \\exp(-j 2\\pi m f \\Delta t).$$"
   ]
  },
  {
   "cell_type": "markdown",
   "metadata": {
    "id": "oKkFgLDm3J05"
   },
   "source": [
    "Взаимная (кросс-) корреляционная функция для случайных процессов (действительных) $x[k]$ и $y[k]$ определяется как \n",
    "$$r_{xy}[m]=M\\{ x[k] y[k+m]\\}.$$ \n",
    "\n",
    "Для взаимной спектральной плотности может не выполняться равенство $r_{xy}[-m]=r^*_{xy}[m]$.\n",
    "\n",
    "Через нее определяется  и взаимная (кросс-) спектральная плотность мощности для двух стационарных случайных процессов $x[k]$ и $y[k]$:\n",
    "$$G_{xy}(f)= \\Delta t \\sum \\limits_{m=-\\infty}^{\\infty} r_{xy}[m] \\exp(-j 2\\pi m f \\Delta t).$$\n",
    "\n",
    "Для взаимной СПМ может не выполняться равенство $r_{xy}[-m]=r^*_{xy}[m]$, а значит взаимная спектральная плотность мощности является комплекснозначной функцией в общем виде. Однако для нее выполняется свойство $G_{xy}(f)=G^*_{yx}(f)$."
   ]
  },
  {
   "cell_type": "markdown",
   "metadata": {
    "id": "0fNv8_mg3J05"
   },
   "source": [
    "**Коррелограммный метод** оценивания взаимной спектральной плотности мощности имеет форму:\n",
    "$$\\hat{G}_{xy}(f)=\\Delta t \\sum \\limits_{m=-(N_1-1)}^{N_1-1} \\hat{r}_{xy}[m] w[m]\\exp(-j 2\\pi m f \\Delta t), $$"
   ]
  },
  {
   "cell_type": "markdown",
   "metadata": {
    "id": "Ew3ELFUS3J05"
   },
   "source": [
    "где \n",
    "* $N_1$ — ограничение на максимальный сдвиг в кросс-корреляционной функции,\n",
    "* $w[k]$ —  симметричная относительно нуля оконная функция длины $2N_1-1$,\n",
    "* $\\hat{r}_{xy}[m]$ —  оценка кросс-корреляционной функции длиной в $2N_1-1$ отчетов."
   ]
  },
  {
   "cell_type": "markdown",
   "metadata": {
    "id": "MX1Gh7LY3J06"
   },
   "source": [
    "**Метод Уэлча** (`signal.csd`) для оценки взаимной СПМ заключается в следующем. \n",
    "\n",
    "Рассмотрим этот способ для $P$ сегментов по $D$ отсчетов, при сдвиге между соседними сегментами $S\\le D$.\n",
    "\n",
    "Сначала $N$—точечные последовательности сегментируются взвешиваются окном:\n",
    "\n",
    "$$x^{(p)}[k]=w[k]x[k+pS],$$\n",
    "\n",
    "$$y^{(p)}[k]=w[k]y[k+pS],$$\n",
    "\n",
    "где $0 \\le k \\le D-1$, $0 \\le p \\le P-1$, по которым вычисляются выборочные кросс-спектральные оценки сегментов:\n",
    "\n",
    "$${\\tilde{P}}^{(P)}_{xy}(f)=\\frac{\\Delta t}{U}{{X}^{(p)}}(f){{\\left( {{Y}^{(p)}}(f) \\right)}^{*}},$$\n",
    "где \n",
    "$${{X}^{(p)}}(f)=\\sum\\limits_{k=0}^{D-1}{{{x}^{(p)}}}[k]\\exp \\left( -j2\\pi f\\ k\\Delta t \\right),$$\n",
    "$${{Y}^{(p)}}(f)=\\sum\\limits_{k=0}^{D-1}{{{y}^{(p)}}}[k]\\exp \\left( -j2\\pi f\\ k\\Delta t \\right).$$\n",
    "$$ U= \\sum_{k=0}^{D-1} w^2[k].$$"
   ]
  },
  {
   "cell_type": "markdown",
   "metadata": {
    "id": "cXP5b9Mp3J06"
   },
   "source": [
    "Окончательная оценка кросс-СПМ $ \\hat{P}_{xy} (f)$ строится путем усреднения по всем сегментам. "
   ]
  },
  {
   "cell_type": "markdown",
   "metadata": {
    "id": "oOc0GoV03J07"
   },
   "source": [
    "$$ \\hat{P}_{xy} (f)= \\dfrac{1}{P} \\sum_{p=0}^{P-1} {\\tilde{P}}^{(P)}_{xy}(f). $$"
   ]
  },
  {
   "cell_type": "code",
   "execution_count": null,
   "metadata": {
    "id": "mGgtdpz23J07"
   },
   "outputs": [],
   "source": [
    "fs=10000\n",
    "f0=2000\n",
    "f1=3000\n",
    "a1=4\n",
    "a2=5\n",
    "N=1024*64\n",
    "k=np.arange(N)\n",
    "\n",
    "x=a1*np.sin(2*np.pi*f0/fs*k) + a2*np.sin(2*np.pi*f1/fs*k) + np.random.normal(scale=20, size=N)\n",
    "y=a1*np.sin(2*np.pi*f0/fs*k+np.pi/4) +np.random.normal(scale=20, size=N)"
   ]
  },
  {
   "cell_type": "code",
   "execution_count": null,
   "metadata": {
    "id": "0sv_w5_s3J07",
    "outputId": "020e6dc7-1a3b-41eb-cf7a-2fb464eb20a4"
   },
   "outputs": [],
   "source": [
    "f, Pxy = signal.csd(x, y, fs, nperseg=x.size//64)\n",
    "plt.figure(figsize=[8, 3])\n",
    "# plt.semilogy(f, np.abs(Pxy))\n",
    "plt.plot(f, np.abs(Pxy)/2)\n",
    "plt.xlabel('Частота, Гц')\n",
    "plt.ylabel('Оценка Кросс-СПМ (модуль), Bт/Гц')\n",
    "plt.grid()\n",
    "plt.tight_layout()\n",
    "plt.show()"
   ]
  },
  {
   "cell_type": "code",
   "execution_count": null,
   "metadata": {
    "id": "YL9I-xJS3J07",
    "outputId": "13591e5d-dc81-4fc7-95c8-018f9fc15516"
   },
   "outputs": [],
   "source": [
    "f, Pxy = signal.csd(x, x, fs, nperseg=x.size//64)\n",
    "plt.figure(figsize=[8, 3])\n",
    "#plt.semilogy(f, np.abs(Pxy))\n",
    "plt.plot(f, np.abs(Pxy)/2)\n",
    "plt.xlabel('Частота, Гц')\n",
    "plt.ylabel('Оценка СПМ x[k], Bт/Гц')\n",
    "plt.grid()\n",
    "plt.tight_layout()\n",
    "plt.show()"
   ]
  },
  {
   "cell_type": "markdown",
   "metadata": {
    "id": "RDGo0SLv3J08"
   },
   "source": [
    "Для взаимной спекральной плотности может не выполняться равенство $r_{xy}[-m]=r^*_{xy}[m]$, а значит взаимная спектральная плотность мощности является комплеснозначной функцией в общем виде. Однако для нее выполняется свойство $G_{xy}(f)=G^*_{yx}(f)$."
   ]
  },
  {
   "cell_type": "code",
   "execution_count": null,
   "metadata": {
    "id": "uHN27m6f3J09",
    "outputId": "845b0cc0-a57d-461b-e23e-9dc302bfded9",
    "scrolled": true
   },
   "outputs": [],
   "source": [
    "f, Pxy = signal.csd(x, y, fs, nperseg=x.size//64)\n",
    "f, Pyx = signal.csd(y, x, fs, nperseg=x.size//64)\n",
    "dif = (Pxy-np.conjugate(Pyx))\n",
    "max(abs(dif))"
   ]
  },
  {
   "cell_type": "markdown",
   "metadata": {
    "id": "h8hPEwMP3J09"
   },
   "source": [
    "## Спектральный анализ по неэквидистантным отсчетам (периодограммы Ломба-Скаргла)"
   ]
  },
  {
   "cell_type": "code",
   "execution_count": null,
   "metadata": {
    "id": "i0VlwVsb3J09"
   },
   "outputs": [],
   "source": [
    "fs=10000\n",
    "f0=2000\n",
    "f1=3000\n",
    "a1=4\n",
    "a2=5\n",
    "k=np.arange(N)\n",
    "\n",
    "M=10000\n",
    "t=np.linspace(0, 50/fs, M)\n",
    "\n",
    "r = np.random.rand(M)\n",
    "t = t[r >= 0.95]\n",
    "N=t.size\n",
    "\n",
    "# 1 случай - анализ во временной области возможен\n",
    "# x=a1*np.sin(2*np.pi*f0*t) + a2*np.sin(2*np.pi*f1*t) + np.random.normal(scale=0.5, size=N)\n",
    "# 2 случай - анализ во временной области невозможен\n",
    "x=a1*np.sin(2*np.pi*f0*t) + a2*np.sin(2*np.pi*f1*t) + np.random.normal(scale=7, size=N)"
   ]
  },
  {
   "cell_type": "code",
   "execution_count": null,
   "metadata": {
    "id": "wxE0QClz3J0-",
    "outputId": "b499e305-32b4-4d1f-e15a-e3aaf4ff3708"
   },
   "outputs": [],
   "source": [
    "plt.figure(figsize=[8, 4])\n",
    "plt.plot(t, x, '.-')\n",
    "plt.xlabel('Время $t$, с')\n",
    "plt.ylabel('Амплитуда $x(t)$, В')\n",
    "plt.tight_layout()\n",
    "plt.grid()\n",
    "plt.show()"
   ]
  },
  {
   "cell_type": "code",
   "execution_count": null,
   "metadata": {
    "id": "V0f3nosR3J0-"
   },
   "outputs": [],
   "source": [
    "w=np.linspace(fs/2**14, fs/2, 2**12)*2*np.pi"
   ]
  },
  {
   "cell_type": "markdown",
   "metadata": {},
   "source": [
    "Периодограммы Ломба-Скаргла реализованы библиотечными функциями\n",
    "* в ```scipy``` - ```scipy.signal.lombscargle```\n",
    "* в ```astropy``` - ```astropy.timeseries.LombScargle``` https://docs.astropy.org/en/stable/timeseries/lombscargle.html"
   ]
  },
  {
   "cell_type": "code",
   "execution_count": null,
   "metadata": {
    "id": "JGoMIuuL3J0-"
   },
   "outputs": [],
   "source": [
    "pgram = signal.lombscargle(t, x, w, normalize=True)"
   ]
  },
  {
   "cell_type": "markdown",
   "metadata": {},
   "source": [
    "* ```t``` - отчеты времени\n",
    "* ```x``` - отчеты сигнала\n",
    "* ```w``` - частоты в рад/с"
   ]
  },
  {
   "cell_type": "code",
   "execution_count": null,
   "metadata": {
    "id": "voKHwThH3J0-",
    "outputId": "71b87cda-89a1-4fa2-eec0-2986117c62db"
   },
   "outputs": [],
   "source": [
    "plt.figure(figsize=[8, 4])\n",
    "plt.plot(w/(2*np.pi), pgram)\n",
    "plt.xlabel('Частота, Гц')\n",
    "plt.ylabel('СПМ, Bт/Гц')\n",
    "plt.grid()\n",
    "plt.show()"
   ]
  },
  {
   "cell_type": "markdown",
   "metadata": {
    "id": "4xcHLCMe3J0_"
   },
   "source": [
    "### LS-спектры\n",
    "\n",
    "\n",
    "---\n",
    "Материал представлен в соотвествии с учебным пособием\n",
    "\n",
    "[4]  Витязев В.В. Анализ неравномерных временных рядов: Учеб. пособие. — СПб.: СПбГУ, 2001. — 68 с.\n",
    "\n",
    "\n",
    "---\n",
    "\n"
   ]
  },
  {
   "cell_type": "markdown",
   "metadata": {
    "id": "PZLgOzO63J0_"
   },
   "source": [
    "До этого мы изучили периодограммы для равномерных рядов. Теперь посмотрим спектры неравномерных рядов. Для построения оценки спектральной плотности мощности  неравномерных рядов используется аппроксимация временного ряда гармонической функцией.\n",
    "Пусть задан временной ряд \n",
    "\t$$\\begin{matrix}\n",
    "   {{x}_{k}}=x\\left( {{t}_{k}} \\right), & k=0,1,\\ldots ,N-1,  \\\\\n",
    "\\end{matrix} $$\t\n",
    "на произвольном множестве  временных отсчетов ${{t}_{k}}$. В качестве модели этого временного ряда будем использовать следующую функцию\n",
    "\t$$f\\left( t \\right)={{a}_{1}}{{\\varphi }_{1}}\\left( t \\right)+{{a}_{2}}{{\\varphi }_{2}}\\left( t \\right)\t$$\n",
    "где $\\begin{matrix}\n",
    "   {{\\varphi }_{1}}\\left( t \\right)=\\cos \\left( \\omega t \\right), & {{\\varphi }_{2}}\\left( t \\right)=\\cos \\left( \\omega t \\right)  \\\\\n",
    "\\end{matrix}$.\n",
    "Определим невязку аппроксимации\n",
    "\t$${{\\varepsilon }_{k}}={{x}_{k}}-f\\left( {{t}_{k}} \\right)$$\t\n",
    "и найдем коэффициенты для  ряда $f(t)$ из условия\n",
    "\t$${{\\left\\| \\varepsilon  \\right\\|}^{2}}=\\min ,$$\t\n",
    "где будут использованы следующие обозначения\n",
    "\t$$\\left( \\phi ,\\varphi  \\right)=\\frac{1}{N}\\sum\\limits_{k=0}^{N-1}{\\phi \\left( {{t}_{k}} \\right)\\varphi \\left( {{t}_{k}} \\right),}$$\t\n",
    "\t$${{\\left\\| \\varphi  \\right\\|}^{2}}=\\left( \\varphi ,\\varphi  \\right).$$\t\n",
    "Для определения коэффициентов получим следующую систему нормальных уравнений\n",
    "\t$$\\left[ \\begin{matrix}\n",
    "   {{\\left\\| {{\\varphi }_{1}} \\right\\|}^{2}} & \\left( {{\\varphi }_{1}},{{\\varphi }_{2}} \\right)  \\\\\n",
    "   \\left( {{\\varphi }_{2}},{{\\varphi }_{1}} \\right) & {{\\left\\| {{\\varphi }_{2}} \\right\\|}^{2}}  \\\\\n",
    "\\end{matrix} \\right]\\left[ \\begin{matrix}\n",
    "   {{a}_{1}}  \\\\\n",
    "   {{a}_{2}}  \\\\\n",
    "\\end{matrix} \\right]=\\left[ \\begin{matrix}\n",
    "   \\left( x,{{\\varphi }_{1}} \\right)  \\\\\n",
    "   \\left( x,{{\\varphi }_{2}} \\right)  \\\\\n",
    "\\end{matrix} \\right],$$\t\n",
    "решение имеет следующий вид:\n",
    "\t$$\\left[ \\begin{matrix}\n",
    "   {{a}_{1}}  \\\\\n",
    "   {{a}_{2}}  \\\\\n",
    "\\end{matrix} \\right]=\\frac{1}{\\Delta }\\left[ \\begin{matrix}\n",
    "   {{\\left\\| {{\\varphi }_{2}} \\right\\|}^{2}} & -\\left( {{\\varphi }_{1}},{{\\varphi }_{2}} \\right)  \\\\\n",
    "   -\\left( {{\\varphi }_{2}},{{\\varphi }_{1}} \\right) & {{\\left\\| {{\\varphi }_{1}} \\right\\|}^{2}}  \\\\\n",
    "\\end{matrix} \\right]\\left[ \\begin{matrix}\n",
    "   \\left( x,{{\\varphi }_{1}} \\right)  \\\\\n",
    "   \\left( x,{{\\varphi }_{2}} \\right)  \\\\\n",
    "\\end{matrix} \\right],$$\t\n",
    "где $\\Delta ={{\\left\\| {{\\varphi }_{1}} \\right\\|}^{2}}{{\\left\\| {{\\varphi }_{2}} \\right\\|}^{2}}-{{\\left( {{\\varphi }_{1}},{{\\varphi }_{2}} \\right)}^{2}}.$\n",
    "Вычислим теперь величину\n",
    "\t$${{E}_{\\min }}={{\\left\\| \\varepsilon  \\right\\|}^{2}}={{\\left\\| x \\right\\|}^{2}}-\\sum\\limits_{i=1}^{2}{{{a}_{i}}\\left( x,{{\\varphi }_{i}} \\right)}$$\n",
    "и введем функцию\n",
    "\t$$P\\left( \\omega  \\right)={{\\left\\| x \\right\\|}^{2}}-{{E}_{\\min }}\\left( \\omega  \\right)\\ge 0,$$\n",
    "где ${{E}_{\\min }}\\left( \\omega  \\right)$ имеет смысл минимума квадрата нормы невязки, а ${{\\left\\| x \\right\\|}^{2}}$ представляет собой дисперсию ряда.\n",
    "Очевидно, что значение функции $P\\left( \\omega  \\right)$ будет резко возрастать только при совпадении частот модельного ряда $\\omega$ с частотами гармонических компонент заданного временного ряда ${{x}_{k}}$. Поскольку эта оценка основана на методе наименьших квадратов, ее по предложению Ломба (1976)  называют \n",
    "LS-спектром (LS – Least Squares). Окончательная формула имеет следующий вид:\n",
    "\t$$P\\left( \\omega  \\right)=\\frac{1}{2}\\sum\\limits_{i=1}^{2}{{{a}_{i}}\\left( x,{{\\varphi }_{i}} \\right)}.$$\n",
    "Рассмотрим конкретные представления LS-спектров."
   ]
  },
  {
   "cell_type": "markdown",
   "metadata": {
    "id": "fREEi9CE3J0_"
   },
   "source": [
    "### LS-спектр Барнинга\n",
    "\n",
    "Подставив решение в формулу для вычисления LS-спектра.  Получим следующее аналитическое выражение, обозначаемое $B\\left( \\omega  \\right)$:\n",
    "\t$$B\\left( \\omega  \\right)=\\frac{1}{2}\\frac{{{\\left\\| {{\\varphi }_{1}} \\right\\|}^{2}}{{\\left( x,{{\\varphi }_{2}} \\right)}^{2}}+{{\\left\\| {{\\varphi }_{2}} \\right\\|}^{2}}{{\\left( x,{{\\varphi }_{1}} \\right)}^{2}}-2\\left( {{\\varphi }_{1}},{{\\varphi }_{2}} \\right)\\left( x,{{\\varphi }_{1}} \\right)\\left( x,{{\\varphi }_{2}} \\right)}{{{\\left\\| {{\\varphi }_{1}} \\right\\|}^{2}}{{\\left\\| {{\\varphi }_{2}} \\right\\|}^{2}}-{{\\left( {{\\varphi }_{1}},{{\\varphi }_{2}} \\right)}^{2}}},$$\n",
    "где ${{\\left\\| {{\\varphi }_{1}} \\right\\|}^{2}},\\ \\ {{\\left\\| {{\\varphi }_{2}} \\right\\|}^{2}},\\ \\ \\left( {{\\varphi }_{1}},{{\\varphi }_{2}} \\right),\\ \\ \\left( x,{{\\varphi }_{1}} \\right),\\ \\ \\left( x,{{\\varphi }_{2}} \\right),$ выражаются в соответствии с формулами рассмотренными выше.\n"
   ]
  },
  {
   "cell_type": "markdown",
   "metadata": {
    "id": "7yeHGGhV3J1A"
   },
   "source": [
    "### LS-спектр Ломба\n",
    "\n",
    "Для описания статистических свойств LS-спектра желательно иметь для него представление в виде суммы двух величин. Это можно сделать разными способами. Один из них был предложен Ломбом (1976). Суть этого метода заключается в том, что для каждой модельной частоты $\\omega$ отсчеты ${{t}_{k}}$ смещают на величину $\\tau \\left( \\omega  \\right)$. Введем новые отсчеты времени\n",
    "\t$$\\begin{matrix}\n",
    "   {{{\\bar{t}}}_{k}}={{t}_{k}}-\\tau \\left( \\omega  \\right), & k=0,1,\\ldots ,N-1,  \\\\\n",
    "\\end{matrix}$$\t\n",
    "и наложим на величину $\\left( {{\\varphi }_{1}},{{\\varphi }_{2}} \\right)$ условие \n",
    "\t$$\\left( {{\\varphi }_{1}},{{\\varphi }_{2}} \\right)=\\frac{1}{2}\\sum\\limits_{k=0}^{N-1}{\\sin \\left( \\omega \\left[ {{t}_{k}}-\\tau \\left( \\omega  \\right) \\right] \\right)\\cos \\left( \\omega \\left[ {{t}_{k}}-\\tau \\left( \\omega  \\right) \\right] \\right)}=0.$$\n",
    "Отсюда находим $\\tau \\left( \\omega  \\right)$:\n",
    "\t$$\\tau \\left( \\omega  \\right)=\\frac{1}{2\\omega }\\text{arctg}\\left( \\frac{\\sum\\limits_{k=0}^{N-1}{\\sin 2\\omega {{t}_{k}}}}{\\sum\\limits_{k=0}^{N-1}{\\cos 2\\omega {{t}_{k}}}} \\right).$$\n",
    "При сделанных предположениях для LS-спектра имеем следующее представление:\n",
    "\t$$L\\left( \\omega  \\right)=\\frac{1}{2}\\left[ \\frac{{{\\left( x,{{{\\bar{\\varphi }}}_{1}} \\right)}^{2}}}{{{\\left\\| {{{\\bar{\\varphi }}}_{1}} \\right\\|}^{2}}}+\\frac{{{\\left( x,{{{\\bar{\\varphi }}}_{2}} \\right)}^{2}}}{{{\\left\\| {{{\\bar{\\varphi }}}_{2}} \\right\\|}^{2}}} \\right],$$\n",
    "где ${{\\bar{\\varphi }}_{1}}\\left( t \\right)=\\cos \\left( \\omega {{{\\bar{t}}}_{k}} \\right),$    ${{\\bar{\\varphi }}_{2}}=\\sin \\left( \\omega {{{\\bar{t}}}_{k}} \\right).$\n"
   ]
  },
  {
   "cell_type": "markdown",
   "metadata": {
    "id": "e2u_fRqh3J1A"
   },
   "source": [
    "### Модификация Скаргла\n",
    "\n",
    "Развивая идеи Ломба и желая сохранить информацию о фазе излучаемых колебаний, Скаргл (1982)  ввел в рассмотрение специальный вид дискретного преобразования Фурье:\n",
    "\t$$FT\\left( \\omega  \\right)=\\frac{\\exp \\left( -j\\omega {{t}_{0}} \\right)}{\\sqrt{2}}\\left[ \\frac{\\left( x,{{{\\bar{\\varphi }}}_{1}} \\right)}{\\left\\| {{{\\bar{\\varphi }}}_{1}} \\right\\|}+j\\frac{\\left( x,{{{\\bar{\\varphi }}}_{2}} \\right)}{\\left\\| {{{\\bar{\\varphi }}}_{2}} \\right\\|} \\right].$$\n",
    "Легко понять, что периодограмма Ломба связана с преобразованием Скаргла следующим образом:\n",
    "\t$$L\\left( \\omega  \\right)={{\\left| FT\\left( \\omega  \\right) \\right|}^{2}}.$$\n"
   ]
  },
  {
   "cell_type": "markdown",
   "metadata": {
    "id": "BvvJ4b3e3J0v"
   },
   "source": [
    "## Список литературы\n",
    "\n",
    "[1] Солонина, А. И. Цифровая обработка сигналов в зеркале MATLAB : учебное пособие / А. И. Солонина .— Санкт-Петербург : БХВ-Петербург, 2021.\n",
    "\n",
    "[2] Марпл-мл., С. Л.Цифровой спектральный анализ и его приложения : [учеб. пособие для вузов] / С. Л. Марпл-мл. ; пер. с англ. О. И. Хабарова, Г. А. Сидоровй под ред. И. С. Рыжака .— М. : Мир, 1990.\n",
    "\n",
    "[3] Оппенгейм, А. Цифровая обработка сигналов: [учеб. пособие для вузов] / А. Оппенгейм, Р. Шафер ; пер. с англ. под ред. С. Ф. Боева .— 3-е изд., испр. — Москва : Техносфера, 2019.\n",
    "\n",
    "[4]  Витязев В.В. Анализ неравномерных временных рядов: Учеб. пособие. — СПб.: СПбГУ, 2001. — 68 с.\n",
    "\n",
    "[5]  VanderPlas J. T. Understanding the lomb–scargle periodogram //The Astrophysical Journal Supplement Series. – 2018. – Vol. 236. – №. 1. – P. 16.\n",
    "\n",
    "Книги [1], [2], [3] есть в библиотеке МФТИ."
   ]
  },
  {
   "cell_type": "code",
   "execution_count": null,
   "metadata": {},
   "outputs": [],
   "source": []
  }
 ],
 "metadata": {
  "colab": {
   "collapsed_sections": [],
   "name": "lab5_seminar3.ipynb",
   "provenance": []
  },
  "kernelspec": {
   "display_name": "Python 3 (ipykernel)",
   "language": "python",
   "name": "python3"
  },
  "language_info": {
   "codemirror_mode": {
    "name": "ipython",
    "version": 3
   },
   "file_extension": ".py",
   "mimetype": "text/x-python",
   "name": "python",
   "nbconvert_exporter": "python",
   "pygments_lexer": "ipython3",
   "version": "3.9.12"
  }
 },
 "nbformat": 4,
 "nbformat_minor": 1
}
