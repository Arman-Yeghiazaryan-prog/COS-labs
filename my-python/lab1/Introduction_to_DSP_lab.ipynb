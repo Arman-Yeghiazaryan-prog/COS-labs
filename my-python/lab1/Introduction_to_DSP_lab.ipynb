{
 "cells": [
  {
   "cell_type": "markdown",
   "metadata": {},
   "source": [
    "# Дистрибутив Anaconda "
   ]
  },
  {
   "cell_type": "markdown",
   "metadata": {},
   "source": [
    "* Установить дистирибутив Anaconda для Python 3 https://www.anaconda.com/\n",
    "* Открыть файл в приложении Jupyter Notebook"
   ]
  },
  {
   "cell_type": "markdown",
   "metadata": {},
   "source": [
    "# Базовые числовые типы языка Python"
   ]
  },
  {
   "cell_type": "markdown",
   "metadata": {},
   "source": [
    "**int** - целые числа"
   ]
  },
  {
   "cell_type": "code",
   "execution_count": 40,
   "metadata": {},
   "outputs": [
    {
     "name": "stdout",
     "output_type": "stream",
     "text": [
      "5\n",
      "<class 'int'>\n"
     ]
    }
   ],
   "source": [
    "a=5\n",
    "print(a)\n",
    "print(type(a))"
   ]
  },
  {
   "cell_type": "markdown",
   "metadata": {},
   "source": [
    "Интерпретатор сам подобрал тип переменной."
   ]
  },
  {
   "cell_type": "code",
   "execution_count": 2,
   "metadata": {},
   "outputs": [
    {
     "name": "stdout",
     "output_type": "stream",
     "text": [
      "314159265358979323846264338327950288419716939937510\n",
      "<class 'int'>\n"
     ]
    }
   ],
   "source": [
    "a=314159265358979323846264338327950288419716939937510\n",
    "print(a)\n",
    "print(type(a))"
   ]
  },
  {
   "cell_type": "markdown",
   "metadata": {},
   "source": [
    "Числа типа int могут быть достаточно большими, однако должно быть достаточно памяти для их хранения. "
   ]
  },
  {
   "cell_type": "markdown",
   "metadata": {},
   "source": [
    "**float** - вещественные числа"
   ]
  },
  {
   "cell_type": "code",
   "execution_count": 3,
   "metadata": {},
   "outputs": [
    {
     "name": "stdout",
     "output_type": "stream",
     "text": [
      "5.0\n",
      "<class 'float'>\n",
      "<class 'int'>\n"
     ]
    }
   ],
   "source": [
    "a=5.0\n",
    "print(a)\n",
    "print(type(a))\n",
    "b=int(a)\n",
    "print(type(b))"
   ]
  },
  {
   "cell_type": "code",
   "execution_count": 4,
   "metadata": {},
   "outputs": [
    {
     "name": "stdout",
     "output_type": "stream",
     "text": [
      "3.14159\n",
      "<class 'float'>\n"
     ]
    }
   ],
   "source": [
    "a=3.14159\n",
    "print(a)\n",
    "print(type(a))"
   ]
  },
  {
   "cell_type": "code",
   "execution_count": 5,
   "metadata": {},
   "outputs": [
    {
     "name": "stdout",
     "output_type": "stream",
     "text": [
      "2500000.0\n"
     ]
    }
   ],
   "source": [
    "a=2.5e6\n",
    "print(a)"
   ]
  },
  {
   "cell_type": "markdown",
   "metadata": {},
   "source": [
    "**complex** - комплексные числа. Название переменной не может начинаться с цифры, запись `1j` означает мнимую единицу.\n"
   ]
  },
  {
   "cell_type": "code",
   "execution_count": 6,
   "metadata": {},
   "outputs": [
    {
     "name": "stdout",
     "output_type": "stream",
     "text": [
      "(5+1j)\n",
      "5.0\n",
      "1.0\n"
     ]
    }
   ],
   "source": [
    "a = 5+1j\n",
    "print(a)\n",
    "print(a.real)\n",
    "print(a.imag)"
   ]
  },
  {
   "cell_type": "code",
   "execution_count": 7,
   "metadata": {},
   "outputs": [
    {
     "name": "stdout",
     "output_type": "stream",
     "text": [
      "(5+1.4j)\n",
      "5.0\n",
      "1.4\n"
     ]
    }
   ],
   "source": [
    "a = 5+1.4j\n",
    "print(a)\n",
    "print(a.real)\n",
    "print(a.imag)"
   ]
  },
  {
   "cell_type": "markdown",
   "metadata": {},
   "source": [
    "Числовые переменные поддерживают набор базовых операций, таких как сложение `+`, вычитание `-`, умножение `*`, деление `/`, нахождение частного от деления `//`, отстатка от деления `%`, возведение в степень `**`.\n",
    "\n",
    "\n",
    "\n"
   ]
  },
  {
   "cell_type": "code",
   "execution_count": 8,
   "metadata": {},
   "outputs": [],
   "source": [
    "a=2\n",
    "b=5"
   ]
  },
  {
   "cell_type": "code",
   "execution_count": 9,
   "metadata": {},
   "outputs": [
    {
     "data": {
      "text/plain": [
       "7"
      ]
     },
     "execution_count": 9,
     "metadata": {},
     "output_type": "execute_result"
    }
   ],
   "source": [
    "a+b"
   ]
  },
  {
   "cell_type": "code",
   "execution_count": 10,
   "metadata": {},
   "outputs": [
    {
     "data": {
      "text/plain": [
       "-3"
      ]
     },
     "execution_count": 10,
     "metadata": {},
     "output_type": "execute_result"
    }
   ],
   "source": [
    "a-b"
   ]
  },
  {
   "cell_type": "code",
   "execution_count": 11,
   "metadata": {},
   "outputs": [
    {
     "data": {
      "text/plain": [
       "0.4"
      ]
     },
     "execution_count": 11,
     "metadata": {},
     "output_type": "execute_result"
    }
   ],
   "source": [
    "a/b"
   ]
  },
  {
   "cell_type": "code",
   "execution_count": 12,
   "metadata": {},
   "outputs": [
    {
     "data": {
      "text/plain": [
       "0"
      ]
     },
     "execution_count": 12,
     "metadata": {},
     "output_type": "execute_result"
    }
   ],
   "source": [
    "a//b"
   ]
  },
  {
   "cell_type": "code",
   "execution_count": 13,
   "metadata": {},
   "outputs": [
    {
     "data": {
      "text/plain": [
       "2"
      ]
     },
     "execution_count": 13,
     "metadata": {},
     "output_type": "execute_result"
    }
   ],
   "source": [
    "b//a"
   ]
  },
  {
   "cell_type": "code",
   "execution_count": 14,
   "metadata": {},
   "outputs": [
    {
     "data": {
      "text/plain": [
       "2.5"
      ]
     },
     "execution_count": 14,
     "metadata": {},
     "output_type": "execute_result"
    }
   ],
   "source": [
    "b/a"
   ]
  },
  {
   "cell_type": "code",
   "execution_count": 15,
   "metadata": {},
   "outputs": [
    {
     "data": {
      "text/plain": [
       "1"
      ]
     },
     "execution_count": 15,
     "metadata": {},
     "output_type": "execute_result"
    }
   ],
   "source": [
    "b % a"
   ]
  },
  {
   "cell_type": "code",
   "execution_count": 16,
   "metadata": {},
   "outputs": [
    {
     "data": {
      "text/plain": [
       "32"
      ]
     },
     "execution_count": 16,
     "metadata": {},
     "output_type": "execute_result"
    }
   ],
   "source": [
    "a**b"
   ]
  },
  {
   "cell_type": "code",
   "execution_count": 17,
   "metadata": {},
   "outputs": [
    {
     "data": {
      "text/plain": [
       "32"
      ]
     },
     "execution_count": 17,
     "metadata": {},
     "output_type": "execute_result"
    }
   ],
   "source": [
    "2**5"
   ]
  },
  {
   "cell_type": "markdown",
   "metadata": {
    "id": "sZNePe4yRbzZ"
   },
   "source": [
    "# Импорт библиотек"
   ]
  },
  {
   "cell_type": "code",
   "execution_count": 41,
   "metadata": {
    "executionInfo": {
     "elapsed": 489,
     "status": "ok",
     "timestamp": 1631361401582,
     "user": {
      "displayName": "Тимофей Алексеевич Тормагов",
      "photoUrl": "https://lh3.googleusercontent.com/a-/AOh14GiIGWKaiAr4uy-W-yWh9ZYv-gqUzL8qBBMURrVIog=s64",
      "userId": "14229529479566309348"
     },
     "user_tz": -180
    },
    "id": "6vzjoEbwPOo-"
   },
   "outputs": [],
   "source": [
    "import numpy as np\n",
    "import matplotlib.pyplot as plt\n",
    "from scipy.fft import *\n",
    "from scipy.signal import *"
   ]
  },
  {
   "cell_type": "markdown",
   "metadata": {
    "id": "jeBKBB2lq-J7"
   },
   "source": [
    "`import` <библиотека> `as` <имя> — этот код позволяет присоединять библиотеки (или функции) к проекту и вызывать их по данному имени, например более короткому или более удобному.    \n",
    "Например общепринято библиотеку `numpy` именовать как `np`. NumPy это одна из основных библиотек, которая позволяет работать с большими многомерными массивами и матрицами, а также добавляет много быстрых высокоуровневых математических функций, для работы с этими массивами. Чуть более подробно будет рассмотрено ниже.\n",
    "\n",
    "`from` <библиотека> `import` <имя> — эта запись добавляет из библиотеки (или модуля) в проект конкретный модуль (или функцию). Если поставить *, то будут подгружены все функции этого модуля."
   ]
  },
  {
   "cell_type": "markdown",
   "metadata": {
    "id": "yY0yZaYDTxEw"
   },
   "source": [
    "Задание последовательности отсчетов можно осуществить в виде одномерных массивов numpy"
   ]
  },
  {
   "cell_type": "markdown",
   "metadata": {
    "id": "728ura9dz3To"
   },
   "source": [
    "# Различные способы задания одномерного массива"
   ]
  },
  {
   "cell_type": "code",
   "execution_count": 26,
   "metadata": {
    "id": "rQUwMuaUPOBO"
   },
   "outputs": [],
   "source": [
    "import numpy as np"
   ]
  },
  {
   "cell_type": "markdown",
   "metadata": {},
   "source": [
    "```a``` - список (list), поддерживает операцию ```append```"
   ]
  },
  {
   "cell_type": "code",
   "execution_count": 19,
   "metadata": {},
   "outputs": [
    {
     "data": {
      "text/plain": [
       "[1, 2, 3, 4, 5]"
      ]
     },
     "execution_count": 19,
     "metadata": {},
     "output_type": "execute_result"
    }
   ],
   "source": [
    "a=[1,2,3,4]\n",
    "a.append(5)\n",
    "a"
   ]
  },
  {
   "cell_type": "markdown",
   "metadata": {},
   "source": [
    "```a``` - кортеж (tuple), **не поддерживает операцию ```append```**"
   ]
  },
  {
   "cell_type": "code",
   "execution_count": 20,
   "metadata": {},
   "outputs": [
    {
     "ename": "AttributeError",
     "evalue": "'tuple' object has no attribute 'append'",
     "output_type": "error",
     "traceback": [
      "\u001b[1;31m---------------------------------------------------------------------------\u001b[0m",
      "\u001b[1;31mAttributeError\u001b[0m                            Traceback (most recent call last)",
      "Input \u001b[1;32mIn [20]\u001b[0m, in \u001b[0;36m<cell line: 2>\u001b[1;34m()\u001b[0m\n\u001b[0;32m      1\u001b[0m a\u001b[38;5;241m=\u001b[39m(\u001b[38;5;241m1\u001b[39m,\u001b[38;5;241m2\u001b[39m,\u001b[38;5;241m3\u001b[39m,\u001b[38;5;241m4\u001b[39m)\n\u001b[1;32m----> 2\u001b[0m \u001b[43ma\u001b[49m\u001b[38;5;241;43m.\u001b[39;49m\u001b[43mappend\u001b[49m(\u001b[38;5;241m5\u001b[39m)\n\u001b[0;32m      3\u001b[0m a\n",
      "\u001b[1;31mAttributeError\u001b[0m: 'tuple' object has no attribute 'append'"
     ]
    }
   ],
   "source": [
    "a=(1,2,3,4)\n",
    "a.append(5)\n",
    "a"
   ]
  },
  {
   "cell_type": "markdown",
   "metadata": {
    "id": "R4nwLiqZzRme"
   },
   "source": [
    "Самый простой способ создать массив, это обратиться к функции из библиотеки `NumPy` `array()`.   \n"
   ]
  },
  {
   "cell_type": "code",
   "execution_count": 21,
   "metadata": {
    "colab": {
     "base_uri": "https://localhost:8080/"
    },
    "executionInfo": {
     "elapsed": 243,
     "status": "ok",
     "timestamp": 1631361424527,
     "user": {
      "displayName": "Тимофей Алексеевич Тормагов",
      "photoUrl": "https://lh3.googleusercontent.com/a-/AOh14GiIGWKaiAr4uy-W-yWh9ZYv-gqUzL8qBBMURrVIog=s64",
      "userId": "14229529479566309348"
     },
     "user_tz": -180
    },
    "id": "XgngyinXP8hX",
    "outputId": "d77145d3-353b-4af4-bcca-8e1c44840a96"
   },
   "outputs": [
    {
     "data": {
      "text/plain": [
       "array([1, 2, 3, 4])"
      ]
     },
     "execution_count": 21,
     "metadata": {},
     "output_type": "execute_result"
    }
   ],
   "source": [
    "x=np.array([1,2,3,4])\n",
    "x"
   ]
  },
  {
   "cell_type": "markdown",
   "metadata": {
    "id": "PAl3j8ox7onX"
   },
   "source": [
    "Если известен точно шаг последовательности, то ее можно задать с помощью функции `arange()` из библиотеки `numpy`. Где `start` это первый элемент последовательности, `stop` это элемент который ограничивает последовательность (сам элемент в нее не включается) и `step` это шаг последовательности, т.е. разница между двумя соседними элементами."
   ]
  },
  {
   "cell_type": "code",
   "execution_count": 22,
   "metadata": {
    "colab": {
     "base_uri": "https://localhost:8080/",
     "height": 34
    },
    "id": "iR8Z4ioNRgwv",
    "outputId": "21180bb7-aa49-4507-e051-a38e6a4873a0"
   },
   "outputs": [
    {
     "data": {
      "text/plain": [
       "array([ 1,  2,  3,  4,  5,  6,  7,  8,  9, 10])"
      ]
     },
     "execution_count": 22,
     "metadata": {},
     "output_type": "execute_result"
    }
   ],
   "source": [
    "x=np.arange(start=1, stop=11, step=1)\n",
    "x"
   ]
  },
  {
   "cell_type": "markdown",
   "metadata": {
    "id": "p9RRZ9Kn1-dz"
   },
   "source": [
    "Существует способ создать массив нулевых элементов."
   ]
  },
  {
   "cell_type": "code",
   "execution_count": 23,
   "metadata": {
    "colab": {
     "base_uri": "https://localhost:8080/"
    },
    "executionInfo": {
     "elapsed": 306,
     "status": "ok",
     "timestamp": 1631361563442,
     "user": {
      "displayName": "Тимофей Алексеевич Тормагов",
      "photoUrl": "https://lh3.googleusercontent.com/a-/AOh14GiIGWKaiAr4uy-W-yWh9ZYv-gqUzL8qBBMURrVIog=s64",
      "userId": "14229529479566309348"
     },
     "user_tz": -180
    },
    "id": "c24RkvQTRbmz",
    "outputId": "8762079b-d890-417b-a96f-dd8a8fd484ea"
   },
   "outputs": [
    {
     "data": {
      "text/plain": [
       "array([0., 0., 0., 0., 0.])"
      ]
     },
     "execution_count": 23,
     "metadata": {},
     "output_type": "execute_result"
    }
   ],
   "source": [
    "x=np.zeros(5)\n",
    "x"
   ]
  },
  {
   "cell_type": "code",
   "execution_count": 24,
   "metadata": {
    "id": "ufGO_7BLXKZQ"
   },
   "outputs": [
    {
     "data": {
      "text/plain": [
       "array([0.+0.j, 0.+0.j, 0.+0.j, 0.+0.j, 0.+0.j])"
      ]
     },
     "execution_count": 24,
     "metadata": {},
     "output_type": "execute_result"
    }
   ],
   "source": [
    "x=np.zeros(5, dtype=complex)\n",
    "x"
   ]
  },
  {
   "cell_type": "markdown",
   "metadata": {
    "id": "iwBSIcqc2ja5"
   },
   "source": [
    "Следующий пример демонстрирует создание массива единиц."
   ]
  },
  {
   "cell_type": "code",
   "execution_count": 25,
   "metadata": {
    "colab": {
     "base_uri": "https://localhost:8080/",
     "height": 33
    },
    "id": "dxSujuORTfaA",
    "outputId": "f50f0755-ee16-419e-a291-8d898b1284ae"
   },
   "outputs": [
    {
     "data": {
      "text/plain": [
       "array([1., 1., 1., 1., 1.])"
      ]
     },
     "execution_count": 25,
     "metadata": {},
     "output_type": "execute_result"
    }
   ],
   "source": [
    "x=np.ones(5)\n",
    "x"
   ]
  },
  {
   "cell_type": "markdown",
   "metadata": {
    "id": "TRiTialW2xy_"
   },
   "source": [
    "Часто требуется создать массив, заполненый случайными числами. `np.random.rand()` создает массив случайных чисел с равномерным распределением от 0 до 1. Можно например создавать массив случайных чисел с нормальным распределением. Для этого нужно использовать функцию `np.random.randn()`. Более подробно об этих  возможностях описано [здесь](https://numpy.org/doc/stable/reference/random/index.html#quick-start)."
   ]
  },
  {
   "cell_type": "code",
   "execution_count": 26,
   "metadata": {
    "colab": {
     "base_uri": "https://localhost:8080/",
     "height": 33
    },
    "id": "KE9MC88aT9Gi",
    "outputId": "888e0867-91a8-4e8c-e26a-b757c969715a"
   },
   "outputs": [
    {
     "data": {
      "text/plain": [
       "array([0.95717841, 0.72358319, 0.66665443, 0.49043754, 0.8357947 ])"
      ]
     },
     "execution_count": 26,
     "metadata": {},
     "output_type": "execute_result"
    }
   ],
   "source": [
    "x=np.random.rand(5)\n",
    "x"
   ]
  },
  {
   "cell_type": "markdown",
   "metadata": {
    "id": "irlRa5SybajX"
   },
   "source": [
    "Кроме `arange` есть еще функция `linspace`. Эта функция работает подобно `arange` только вместо шага нужно указать кол-во элементов массива."
   ]
  },
  {
   "cell_type": "code",
   "execution_count": 27,
   "metadata": {
    "colab": {
     "base_uri": "https://localhost:8080/",
     "height": 33
    },
    "id": "cvOo-Lu8UVlN",
    "outputId": "5a0b5cd2-b671-4585-df94-8f0838295db5"
   },
   "outputs": [
    {
     "data": {
      "text/plain": [
       "array([ 1.,  9., 17., 25.])"
      ]
     },
     "execution_count": 27,
     "metadata": {},
     "output_type": "execute_result"
    }
   ],
   "source": [
    "x=np.linspace(start=1, stop=25, num=4)\n",
    "x"
   ]
  },
  {
   "cell_type": "markdown",
   "metadata": {
    "id": "co5EJMtYiYhm"
   },
   "source": [
    "Рассмотрим некоторые функции, которые применяются к каждому элементу массива."
   ]
  },
  {
   "cell_type": "code",
   "execution_count": 28,
   "metadata": {
    "colab": {
     "base_uri": "https://localhost:8080/",
     "height": 33
    },
    "id": "9vLIOXK_OIdQ",
    "outputId": "4549640f-e508-4df8-fcc4-808df562bac6"
   },
   "outputs": [
    {
     "name": "stdout",
     "output_type": "stream",
     "text": [
      "[0 1 2 3 4 5 6 7 8 9]\n"
     ]
    }
   ],
   "source": [
    "k=np.arange(10)\n",
    "print(k)"
   ]
  },
  {
   "cell_type": "code",
   "execution_count": 29,
   "metadata": {
    "colab": {
     "base_uri": "https://localhost:8080/",
     "height": 67
    },
    "id": "nLcGtUPzlWhr",
    "outputId": "2223d217-a373-4015-ffe5-f81f4334476f"
   },
   "outputs": [
    {
     "data": {
      "text/plain": [
       "array([ 0.00000000e+00,  9.51056516e-01,  5.87785252e-01, -5.87785252e-01,\n",
       "       -9.51056516e-01, -2.44929360e-16,  9.51056516e-01,  5.87785252e-01,\n",
       "       -5.87785252e-01, -9.51056516e-01])"
      ]
     },
     "execution_count": 29,
     "metadata": {},
     "output_type": "execute_result"
    }
   ],
   "source": [
    "k=np.arange(10)\n",
    "x=np.sin(2*np.pi*0.2*k)\n",
    "x"
   ]
  },
  {
   "cell_type": "code",
   "execution_count": 30,
   "metadata": {
    "colab": {
     "base_uri": "https://localhost:8080/",
     "height": 50
    },
    "id": "cOitEFWFljxk",
    "outputId": "caeb408c-7227-4aaa-9df3-403b8ebf363b"
   },
   "outputs": [
    {
     "data": {
      "text/plain": [
       "array([ 1.        ,  0.30901699, -0.80901699, -0.80901699,  0.30901699,\n",
       "        1.        ,  0.30901699, -0.80901699, -0.80901699,  0.30901699])"
      ]
     },
     "execution_count": 30,
     "metadata": {},
     "output_type": "execute_result"
    }
   ],
   "source": [
    "k=np.arange(10)\n",
    "x=np.cos(2*np.pi*0.2*k)\n",
    "x"
   ]
  },
  {
   "cell_type": "code",
   "execution_count": 31,
   "metadata": {
    "colab": {
     "base_uri": "https://localhost:8080/",
     "height": 108
    },
    "id": "h2cSBWHCln0b",
    "outputId": "b98d9f03-4dd2-4539-8529-dcf5a986f02f"
   },
   "outputs": [
    {
     "data": {
      "text/plain": [
       "array([ 1.        +0.00000000e+00j,  0.30901699-9.51056516e-01j,\n",
       "       -0.80901699-5.87785252e-01j, -0.80901699+5.87785252e-01j,\n",
       "        0.30901699+9.51056516e-01j,  1.        +2.44929360e-16j,\n",
       "        0.30901699-9.51056516e-01j, -0.80901699-5.87785252e-01j,\n",
       "       -0.80901699+5.87785252e-01j,  0.30901699+9.51056516e-01j])"
      ]
     },
     "execution_count": 31,
     "metadata": {},
     "output_type": "execute_result"
    }
   ],
   "source": [
    "k=np.arange(10)\n",
    "x=np.exp(-1j*2*np.pi*0.2*k)\n",
    "x"
   ]
  },
  {
   "cell_type": "markdown",
   "metadata": {
    "id": "DRF3--28lffM"
   },
   "source": [
    "Полный список функций с полным описанием смотреть [здесь](http:\\\\https://numpy.org/doc/stable/reference/routines.math.html)."
   ]
  },
  {
   "cell_type": "code",
   "execution_count": 32,
   "metadata": {
    "colab": {
     "base_uri": "https://localhost:8080/"
    },
    "executionInfo": {
     "elapsed": 254,
     "status": "ok",
     "timestamp": 1631361809569,
     "user": {
      "displayName": "Тимофей Алексеевич Тормагов",
      "photoUrl": "https://lh3.googleusercontent.com/a-/AOh14GiIGWKaiAr4uy-W-yWh9ZYv-gqUzL8qBBMURrVIog=s64",
      "userId": "14229529479566309348"
     },
     "user_tz": -180
    },
    "id": "hlKzSJXXvZXN",
    "outputId": "8709bc3a-d90f-455d-d889-2e78b27f0d37"
   },
   "outputs": [
    {
     "data": {
      "text/plain": [
       "(5+1j)"
      ]
     },
     "execution_count": 32,
     "metadata": {},
     "output_type": "execute_result"
    }
   ],
   "source": [
    "a=5+1j\n",
    "a"
   ]
  },
  {
   "cell_type": "code",
   "execution_count": 33,
   "metadata": {},
   "outputs": [
    {
     "data": {
      "text/plain": [
       "'s'"
      ]
     },
     "execution_count": 33,
     "metadata": {},
     "output_type": "execute_result"
    }
   ],
   "source": [
    "a=\"s\"\n",
    "a"
   ]
  },
  {
   "cell_type": "markdown",
   "metadata": {
    "id": "qz0bV4NGVAE8"
   },
   "source": [
    "# Построение графиков сигналов"
   ]
  },
  {
   "cell_type": "code",
   "execution_count": 42,
   "metadata": {
    "executionInfo": {
     "elapsed": 237,
     "status": "ok",
     "timestamp": 1631361833324,
     "user": {
      "displayName": "Тимофей Алексеевич Тормагов",
      "photoUrl": "https://lh3.googleusercontent.com/a-/AOh14GiIGWKaiAr4uy-W-yWh9ZYv-gqUzL8qBBMURrVIog=s64",
      "userId": "14229529479566309348"
     },
     "user_tz": -180
    },
    "id": "FGKvmYehVE83"
   },
   "outputs": [],
   "source": [
    "import matplotlib.pyplot as plt"
   ]
  },
  {
   "cell_type": "code",
   "execution_count": 35,
   "metadata": {
    "colab": {
     "base_uri": "https://localhost:8080/",
     "height": 405
    },
    "executionInfo": {
     "elapsed": 794,
     "status": "ok",
     "timestamp": 1631361835204,
     "user": {
      "displayName": "Тимофей Алексеевич Тормагов",
      "photoUrl": "https://lh3.googleusercontent.com/a-/AOh14GiIGWKaiAr4uy-W-yWh9ZYv-gqUzL8qBBMURrVIog=s64",
      "userId": "14229529479566309348"
     },
     "user_tz": -180
    },
    "id": "TsT9MgbjVK4P",
    "outputId": "60c4ecc8-2bc8-4546-f5ad-5b9b2f66e884"
   },
   "outputs": [
    {
     "data": {
      "image/png": "[encoded data removed]",
      "text/plain": [
       "<Figure size 700x300 with 1 Axes>"
      ]
     },
     "metadata": {
      "needs_background": "light"
     },
     "output_type": "display_data"
    }
   ],
   "source": [
    "plt.figure(figsize=[7, 3], dpi=100)\n",
    "x=np.array([1,2,3,4])\n",
    "k=np.arange(x.size)\n",
    "plt.stem(k, x)\n",
    "plt.xlabel(\"$k$\")\n",
    "plt.ylabel(\"$x[k]$\")\n",
    "plt.xticks(ticks=np.arange(x.size))\n",
    "plt.title(\"Сигнал x[k]\")\n",
    "plt.grid()\n",
    "plt.show()"
   ]
  },
  {
   "cell_type": "markdown",
   "metadata": {
    "id": "Uce1N9n2aBSj"
   },
   "source": [
    "# Вычисление ДПФ с помощью БПФ (FFT)"
   ]
  },
  {
   "cell_type": "code",
   "execution_count": 43,
   "metadata": {
    "id": "CSpXLfKysFrN"
   },
   "outputs": [],
   "source": [
    "import time"
   ]
  },
  {
   "cell_type": "markdown",
   "metadata": {
    "id": "6pCoNMqltDXE"
   },
   "source": [
    "Сравним время вычисления ДПФ по формуле преобразования и с писпользованием алгоритма быстрого преобразования Фурье (БПФ, FFT)."
   ]
  },
  {
   "cell_type": "code",
   "execution_count": 44,
   "metadata": {
    "colab": {
     "base_uri": "https://localhost:8080/",
     "height": 33
    },
    "id": "8Gv0wQq-g8Ye",
    "outputId": "3c886113-1158-49e3-a5fd-088531877fca"
   },
   "outputs": [
    {
     "name": "stdout",
     "output_type": "stream",
     "text": [
      "49.13282108306885 c\n"
     ]
    }
   ],
   "source": [
    "x=np.random.rand(10000)\n",
    "\n",
    "start=time.time()\n",
    "N=x.size\n",
    "k=np.arange(N)\n",
    "X=np.zeros(N, dtype=complex)\n",
    "for n in np.arange(N):\n",
    "    X[n]=sum(x*np.exp(-1j*2*np.pi*k*n/N))\n",
    "\n",
    "print(time.time()-start, \"c\")"
   ]
  },
  {
   "cell_type": "code",
   "execution_count": 45,
   "metadata": {
    "colab": {
     "base_uri": "https://localhost:8080/",
     "height": 33
    },
    "id": "YOEfGgLmrnce",
    "outputId": "dba35d87-ff68-452c-bfa4-02fdee002965"
   },
   "outputs": [
    {
     "name": "stdout",
     "output_type": "stream",
     "text": [
      "0.0009958744049072266 c\n"
     ]
    }
   ],
   "source": [
    "start=time.time()\n",
    "X=np.fft.fft(x) \n",
    "print(time.time()-start, \"c\")"
   ]
  },
  {
   "cell_type": "code",
   "execution_count": 46,
   "metadata": {
    "colab": {
     "base_uri": "https://localhost:8080/",
     "height": 33
    },
    "id": "Zk8VvmyEao6h",
    "outputId": "d5c55517-fbe9-426b-911f-ee90da96586c"
   },
   "outputs": [
    {
     "data": {
      "text/plain": [
       "array([10.+0.j, -2.+2.j, -2.+0.j, -2.-2.j])"
      ]
     },
     "execution_count": 46,
     "metadata": {},
     "output_type": "execute_result"
    }
   ],
   "source": [
    "x=np.array([1,2,3,4])\n",
    "X=np.fft.fft(x) \n",
    "X"
   ]
  },
  {
   "cell_type": "code",
   "execution_count": 47,
   "metadata": {
    "id": "lE0iDDBsfhNp"
   },
   "outputs": [],
   "source": [
    "N=x.size\n",
    "k=np.arange(N)\n",
    "X=np.zeros(N, dtype=complex)\n",
    "for n in np.arange(N):\n",
    "    X[n]=sum(x*np.exp(-1j*2*np.pi*k*n/N))"
   ]
  },
  {
   "cell_type": "code",
   "execution_count": 48,
   "metadata": {
    "colab": {
     "base_uri": "https://localhost:8080/",
     "height": 50
    },
    "id": "ZSwmWP4ec8i9",
    "outputId": "37457a79-8c22-4e7e-9899-0d80981ec9ae"
   },
   "outputs": [
    {
     "data": {
      "text/plain": [
       "array([10.+0.00000000e+00j, -2.+2.00000000e+00j, -2.-9.79717439e-16j,\n",
       "       -2.-2.00000000e+00j])"
      ]
     },
     "execution_count": 48,
     "metadata": {},
     "output_type": "execute_result"
    }
   ],
   "source": [
    "X"
   ]
  },
  {
   "cell_type": "code",
   "execution_count": 49,
   "metadata": {
    "colab": {
     "base_uri": "https://localhost:8080/",
     "height": 406
    },
    "id": "WDkJXrsoax8g",
    "outputId": "e65c485d-cba0-4f76-dad0-b7c9c516f480"
   },
   "outputs": [
    {
     "data": {
      "image/png": "[encoded data removed]",
      "text/plain": [
       "<Figure size 700x400 with 4 Axes>"
      ]
     },
     "metadata": {
      "needs_background": "light"
     },
     "output_type": "display_data"
    }
   ],
   "source": [
    "plt.figure(figsize=[7, 4], dpi=100)\n",
    "\n",
    "\n",
    "\n",
    "plt.subplot(221)\n",
    "plt.stem(X.real, use_line_collection=True)\n",
    "plt.xlabel(\"$n$\")\n",
    "plt.ylabel(\"Re $X[n]$\")\n",
    "plt.xticks(ticks=np.arange(X.size))\n",
    "plt.title(\"Re $X[n]$\")\n",
    "\n",
    "plt.grid()\n",
    "\n",
    "plt.subplot(222)\n",
    "plt.stem(X.imag, use_line_collection=True)\n",
    "plt.xlabel(\"$n$\")\n",
    "plt.ylabel(\"Im $X[n]$\")\n",
    "plt.xticks(ticks=np.arange(X.size))\n",
    "plt.title(\"Im $X[n]$\")\n",
    "plt.grid()\n",
    "\n",
    "plt.subplot(223)\n",
    "plt.stem(abs(X), use_line_collection=True)\n",
    "plt.xlabel(\"$n$\")\n",
    "plt.ylabel(\"$|X[n]|$\")\n",
    "plt.xticks(ticks=np.arange(X.size))\n",
    "plt.title(\"$|X[n]|$\")\n",
    "plt.grid()\n",
    "\n",
    "plt.subplot(224)\n",
    "plt.stem(np.angle(X), use_line_collection=True)\n",
    "plt.xlabel(\"$n$\")\n",
    "plt.ylabel(\"$\\\\angle X[n]$\")\n",
    "plt.xticks(ticks=np.arange(X.size))\n",
    "plt.title(\"$\\\\angle X[n]$\")\n",
    "plt.grid()\n",
    "\n",
    "plt.tight_layout()"
   ]
  },
  {
   "cell_type": "markdown",
   "metadata": {
    "id": "pbtTVYaFX1fw"
   },
   "source": [
    "# Пример задачи. Циклический сдвиг ДПФ\n",
    " Пусть $x[k]\\overset{\\text{ДПФ}}\\longleftrightarrow X[n]$,  $y[k] \\overset{\\text{ДПФ}}\\longleftrightarrow  Y[n]$, $Y[n]=X[n]\\mathrm{e}^{-j\\frac{2\\pi}{N}nm}$, где $N$ — число отсчетов ДПФ, $m$ — число, на которое происходит сдвиг.\n",
    " \n",
    "$$x[k]=\\{ 0.1 \\,\\,\\,\\, 0.2 \\,\\,\\,\\, 0.5 \\,\\,\\,\\, 1 \\}.$$\n",
    "\n",
    " Проведедите моделирование в Python. \n",
    "- Вычислите ДПФ $X[n]$ последовательности $x[k]$ (```fft(x)```).\n",
    "- Получите последовательность отсчетов ДПФ $Y[n]$ путем домножения $X[n]$ на комплексную экспоенту $\\mathrm{e}^{-j\\frac{2\\pi}{N}nm}$ (```np.exp(-1j*2*np.pi/4*m*n)```).\n",
    "- Вычислите обратное ДПФ для $Y[n]$ (```ifft(Y)```)."
   ]
  },
  {
   "cell_type": "code",
   "execution_count": 50,
   "metadata": {
    "colab": {
     "base_uri": "https://localhost:8080/",
     "height": 34
    },
    "id": "kRWxBggZX0_R",
    "outputId": "8ae41f69-a4ab-45c9-e519-5510179eb0a6"
   },
   "outputs": [
    {
     "data": {
      "text/plain": [
       "array([0.1, 0.2, 0.5, 1. ])"
      ]
     },
     "execution_count": 50,
     "metadata": {},
     "output_type": "execute_result"
    }
   ],
   "source": [
    "m = 1\n",
    "x=np.array([0.1, 0.2, 0.5, 1])\n",
    "N = x.size\n",
    "x"
   ]
  },
  {
   "cell_type": "code",
   "execution_count": 51,
   "metadata": {
    "colab": {
     "base_uri": "https://localhost:8080/",
     "height": 34
    },
    "id": "-0U46o4RYffS",
    "outputId": "d09f1728-93a7-4daf-cdf7-979bbb812417"
   },
   "outputs": [
    {
     "data": {
      "text/plain": [
       "array([ 1.8+0.j , -0.4+0.8j, -0.6+0.j , -0.4-0.8j])"
      ]
     },
     "execution_count": 51,
     "metadata": {},
     "output_type": "execute_result"
    }
   ],
   "source": [
    "X=np.fft.fft(x) \n",
    "X"
   ]
  },
  {
   "cell_type": "code",
   "execution_count": 52,
   "metadata": {
    "colab": {
     "base_uri": "https://localhost:8080/",
     "height": 34
    },
    "id": "LxzKtOotYYpF",
    "outputId": "53e3249b-8821-42c3-a4aa-b94e99f12df5"
   },
   "outputs": [
    {
     "data": {
      "text/plain": [
       "array([0, 1, 2, 3])"
      ]
     },
     "execution_count": 52,
     "metadata": {},
     "output_type": "execute_result"
    }
   ],
   "source": [
    "n=np.arange(N)\n",
    "n"
   ]
  },
  {
   "cell_type": "code",
   "execution_count": 53,
   "metadata": {
    "id": "-XXgmg4aYBmX"
   },
   "outputs": [],
   "source": [
    "Y=X*np.exp(-1j*2*np.pi/4*m*n)"
   ]
  },
  {
   "cell_type": "code",
   "execution_count": 54,
   "metadata": {
    "colab": {
     "base_uri": "https://localhost:8080/",
     "height": 52
    },
    "id": "UIoQFQnWYsKo",
    "outputId": "d5f813ae-d4a6-4645-f329-0b5c9431a870"
   },
   "outputs": [
    {
     "data": {
      "text/plain": [
       "array([1. +7.38808532e-17j, 0.1-4.61252776e-17j, 0.2-3.71414492e-17j,\n",
       "       0.5+9.38587363e-18j])"
      ]
     },
     "execution_count": 54,
     "metadata": {},
     "output_type": "execute_result"
    }
   ],
   "source": [
    "y=np.fft.ifft(Y)\n",
    "y"
   ]
  },
  {
   "cell_type": "code",
   "execution_count": 55,
   "metadata": {
    "colab": {
     "base_uri": "https://localhost:8080/",
     "height": 306
    },
    "id": "KW8oV3hzY6xB",
    "outputId": "ba9eac42-1c1a-430c-b96d-999941d225e3"
   },
   "outputs": [
    {
     "data": {
      "image/png": "[encoded data removed]",
      "text/plain": [
       "<Figure size 800x300 with 2 Axes>"
      ]
     },
     "metadata": {
      "needs_background": "light"
     },
     "output_type": "display_data"
    }
   ],
   "source": [
    "plt.figure(figsize=[8, 3], dpi=100)\n",
    "plt.subplot(121)\n",
    "plt.stem(x, use_line_collection=True)\n",
    "plt.xlabel(\"$k$\")\n",
    "plt.ylabel(\"$x[k]$\")\n",
    "plt.xticks(ticks=np.arange(x.size))\n",
    "plt.title(\"Сигнал $x[k]$\")\n",
    "plt.grid()\n",
    "\n",
    "plt.subplot(122)\n",
    "plt.stem(y.real, use_line_collection=True)\n",
    "plt.xlabel(\"$k$\")\n",
    "plt.ylabel(\"$y[k]$\")\n",
    "plt.xticks(ticks=np.arange(x.size))\n",
    "plt.title(\"Сигнал $y[k]$\")\n",
    "plt.grid()\n",
    "\n",
    "plt.tight_layout()\n"
   ]
  },
  {
   "cell_type": "code",
   "execution_count": null,
   "metadata": {},
   "outputs": [],
   "source": []
  },
  {
   "cell_type": "code",
   "execution_count": null,
   "metadata": {},
   "outputs": [],
   "source": []
  }
 ],
 "metadata": {
  "colab": {
   "collapsed_sections": [],
   "name": "Introduction_to_DSP_lab.ipynb",
   "provenance": []
  },
  "kernelspec": {
   "display_name": "Python 3 (ipykernel)",
   "language": "python",
   "name": "python3"
  },
  "language_info": {
   "codemirror_mode": {
    "name": "ipython",
    "version": 3
   },
   "file_extension": ".py",
   "mimetype": "text/x-python",
   "name": "python",
   "nbconvert_exporter": "python",
   "pygments_lexer": "ipython3",
   "version": "3.9.12"
  }
 },
 "nbformat": 4,
 "nbformat_minor": 1
}
